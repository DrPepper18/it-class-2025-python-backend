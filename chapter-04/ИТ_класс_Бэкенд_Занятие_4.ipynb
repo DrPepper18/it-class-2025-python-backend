{
  "nbformat": 4,
  "nbformat_minor": 0,
  "metadata": {
    "colab": {
      "provenance": []
    },
    "kernelspec": {
      "name": "python3",
      "display_name": "Python 3"
    },
    "language_info": {
      "name": "python"
    }
  },
  "cells": [
    {
      "cell_type": "markdown",
      "source": [
        "# Асинхронность на Python"
      ],
      "metadata": {
        "id": "Mw8SOShm6k6R"
      }
    },
    {
      "cell_type": "code",
      "execution_count": 10,
      "metadata": {
        "id": "6u9qBLGU6Y-Z"
      },
      "outputs": [],
      "source": [
        "import asyncio"
      ]
    },
    {
      "cell_type": "code",
      "source": [
        "async def task1():\n",
        "    print(\"Hello World #1\")\n",
        "    return await asyncio.sleep(10, result = \"Task 1 completed\")\n",
        "    # \"Я освобождаю поток, разбудите меня через 10 секунд\"\n",
        "    # Не путать с time.sleep — блокировкой потока\n",
        "\n",
        "async def task2():\n",
        "    print(\"Hello World #2\")\n",
        "    return await asyncio.sleep(10, result = \"Task 2 completed\")\n"
      ],
      "metadata": {
        "id": "wf0zAzS-7S2t"
      },
      "execution_count": 11,
      "outputs": []
    },
    {
      "cell_type": "code",
      "source": [
        "await asyncio.gather(task1(), task2())"
      ],
      "metadata": {
        "colab": {
          "base_uri": "https://localhost:8080/"
        },
        "id": "nuNXd-wd7yHy",
        "outputId": "e0671b2c-1f6b-4327-9761-30e7c390a18c"
      },
      "execution_count": 12,
      "outputs": [
        {
          "output_type": "stream",
          "name": "stdout",
          "text": [
            "Hello World #1\n",
            "Hello World #2\n"
          ]
        },
        {
          "output_type": "execute_result",
          "data": {
            "text/plain": [
              "['Task 1 completed', 'Task 2 completed']"
            ]
          },
          "metadata": {},
          "execution_count": 12
        }
      ]
    }
  ]
}