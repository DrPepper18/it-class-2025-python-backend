{
  "nbformat": 4,
  "nbformat_minor": 0,
  "metadata": {
    "colab": {
      "provenance": []
    },
    "kernelspec": {
      "name": "python3",
      "display_name": "Python 3"
    },
    "language_info": {
      "name": "python"
    }
  },
  "cells": [
    {
      "cell_type": "markdown",
      "source": [
        "Python — язык с самым низким порогом вхождения и с одним из самых больших сообществ в мире. Он используется почти для всего: от бэкенда до работ в области искусственного интеллекта.\n",
        "\n",
        "Что касается написания серверной части, то Python выигрывает своей простотой, а значит, реализовать и расширять проект можно быстро и просто."
      ],
      "metadata": {
        "id": "Cl4wZVY8BQ5h"
      }
    },
    {
      "cell_type": "markdown",
      "source": [
        "# Занятие 1. Основы Python"
      ],
      "metadata": {
        "id": "XYtuOT09CJZb"
      }
    },
    {
      "cell_type": "markdown",
      "source": [
        "Здесь мы пройдём\n",
        "\n",
        "*   Переменные\n",
        "*   Структуры данных\n",
        "*   Условные операторы\n",
        "*   Циклы\n",
        "*   Обработка исключений\n",
        "*   Функции\n",
        "*   Классы (и наследования)\n",
        "*   Декораторы\n",
        "\n"
      ],
      "metadata": {
        "id": "gokpPRz6CVjf"
      }
    },
    {
      "cell_type": "markdown",
      "source": [
        "# Переменные"
      ],
      "metadata": {
        "id": "XZ8gr1Y9_k4l"
      }
    },
    {
      "cell_type": "markdown",
      "source": [
        "Целое число `int`"
      ],
      "metadata": {
        "id": "7z7qkOhRDEIj"
      }
    },
    {
      "cell_type": "code",
      "execution_count": null,
      "metadata": {
        "id": "U7Du0qNA_Hby",
        "colab": {
          "base_uri": "https://localhost:8080/"
        },
        "outputId": "fa421968-2104-4d99-b7c0-9ebb3a8b3af1"
      },
      "outputs": [
        {
          "output_type": "stream",
          "name": "stdout",
          "text": [
            "1\n"
          ]
        }
      ],
      "source": [
        "a = 3\n",
        "a = a // 2\n",
        "print(a)"
      ]
    },
    {
      "cell_type": "markdown",
      "source": [
        "Вещественные числа `float`"
      ],
      "metadata": {
        "id": "T3v3zhLZDPvS"
      }
    },
    {
      "cell_type": "code",
      "source": [
        "a = 3.14\n",
        "print(a * 2)"
      ],
      "metadata": {
        "colab": {
          "base_uri": "https://localhost:8080/"
        },
        "id": "bOhGa-i3DP6N",
        "outputId": "34873834-7991-476b-faca-dbf5f91f361f"
      },
      "execution_count": null,
      "outputs": [
        {
          "output_type": "execute_result",
          "data": {
            "text/plain": [
              "6.28"
            ]
          },
          "metadata": {},
          "execution_count": 5
        }
      ]
    },
    {
      "cell_type": "markdown",
      "source": [
        "Строки `str`"
      ],
      "metadata": {
        "id": "qI2k7kqXDiS3"
      }
    },
    {
      "cell_type": "code",
      "source": [
        "str1 = 'pine'\n",
        "str2 = 'apgjghjgjhle'\n",
        "print(str2[8]) # Конкатенация строк"
      ],
      "metadata": {
        "colab": {
          "base_uri": "https://localhost:8080/"
        },
        "id": "nKsMCjp2Dic3",
        "outputId": "d9d8d8c7-b190-4e3c-ddd5-265cdd0dad7e"
      },
      "execution_count": null,
      "outputs": [
        {
          "output_type": "stream",
          "name": "stdout",
          "text": [
            "j\n"
          ]
        }
      ]
    },
    {
      "cell_type": "code",
      "source": [
        "number = \"1984\"\n",
        "print(type(number))\n",
        "number = int(number)\n",
        "print(type(number))"
      ],
      "metadata": {
        "colab": {
          "base_uri": "https://localhost:8080/"
        },
        "id": "8jyTdugyHSZg",
        "outputId": "6f7ed694-8031-4a1b-dd8a-08272fd3ba3b"
      },
      "execution_count": null,
      "outputs": [
        {
          "output_type": "stream",
          "name": "stdout",
          "text": [
            "<class 'str'>\n",
            "<class 'int'>\n"
          ]
        }
      ]
    },
    {
      "cell_type": "markdown",
      "source": [
        "# Структуры данных"
      ],
      "metadata": {
        "id": "z9PzknNb_qVl"
      }
    },
    {
      "cell_type": "markdown",
      "source": [
        "* Список `list` — набор значений разного типа\n",
        "* Множество `set` — набор уникальных значений в списке\n",
        "* Словарь `dict` — обращение не по индексу, а по ключу\n"
      ],
      "metadata": {
        "id": "aU6_O49pDQdE"
      }
    },
    {
      "cell_type": "code",
      "source": [
        "list_example = [1, 1, 2, 3, 3, 3, 5] # Просто массив\n",
        "set_example = {1, 1, 2, 3, 3, 3, 5} # Сколько уникальных значений\n",
        "dict_example = {'boys': 14, 'girls': 6}\n",
        "\n",
        "print('List example:\\t', list_example)\n",
        "print('Set example:\\t', set_example)\n",
        "print('Dict example:\\t', dict_example['girls'])"
      ],
      "metadata": {
        "colab": {
          "base_uri": "https://localhost:8080/"
        },
        "id": "Gu7baer2AN2c",
        "outputId": "d02c57f9-376f-4be5-99a1-af42c0721a8d"
      },
      "execution_count": null,
      "outputs": [
        {
          "output_type": "stream",
          "name": "stdout",
          "text": [
            "List example:\t [1, 1, 2, 3, 3, 3, 5]\n",
            "Set example:\t {1, 2, 3, 5}\n",
            "Dict example:\t 6\n"
          ]
        }
      ]
    },
    {
      "cell_type": "code",
      "source": [
        "list_example.append(134) # Добавляем 9 в конец массива\n",
        "list_example.pop(0) # Удаляем 9 (последний элемент)\n",
        "\n",
        "print(list_example)\n",
        "print(list_example[0]) # Первый элемент\n",
        "print(list_example[-1]) # Последний элемент (-n означает n-й с конца элемент)\n",
        "print(list_example[1:6]) # Слайс от массива (От:До:Шаг)"
      ],
      "metadata": {
        "colab": {
          "base_uri": "https://localhost:8080/"
        },
        "id": "3LvxxjC0IaE9",
        "outputId": "04587b74-cb74-451b-b976-ca3cefe67dee"
      },
      "execution_count": null,
      "outputs": [
        {
          "output_type": "stream",
          "name": "stdout",
          "text": [
            "[3, 3, 3, 5, 134, 134, 134, 134]\n",
            "3\n",
            "134\n",
            "[3, 3, 5, 134, 134]\n"
          ]
        }
      ]
    },
    {
      "cell_type": "code",
      "source": [
        "text = 'The quick brown fox jumps over the lazy dog'\n",
        "print(text.split())"
      ],
      "metadata": {
        "colab": {
          "base_uri": "https://localhost:8080/"
        },
        "id": "rO-WqSJXK0vF",
        "outputId": "dd71ac13-991b-4915-f7ee-0b40cf709cd5"
      },
      "execution_count": null,
      "outputs": [
        {
          "output_type": "stream",
          "name": "stdout",
          "text": [
            "['The', 'quick', 'brown', 'fox', 'jumps', 'over', 'the', 'lazy', 'dog']\n"
          ]
        }
      ]
    },
    {
      "cell_type": "code",
      "source": [
        "print(dict_example['girls'])\n",
        "print(dict_example.keys())\n",
        "print(dict_example.items())"
      ],
      "metadata": {
        "colab": {
          "base_uri": "https://localhost:8080/"
        },
        "id": "eXhfAI-zJyRr",
        "outputId": "07ad9b37-df32-4638-b7b5-1ee0e6b9266a"
      },
      "execution_count": null,
      "outputs": [
        {
          "output_type": "stream",
          "name": "stdout",
          "text": [
            "6\n",
            "dict_keys(['boys', 'girls'])\n",
            "dict_items([('boys', 14), ('girls', 6)])\n"
          ]
        }
      ]
    },
    {
      "cell_type": "markdown",
      "source": [
        "# Условные операторы"
      ],
      "metadata": {
        "id": "Ysrfxhxh_nKx"
      }
    },
    {
      "cell_type": "markdown",
      "source": [
        "*   `==`, `!=` — равно, не равно\n",
        "*   `>`, `<` — больше, меньше\n",
        "*   `>=`, `<=` — больше либо равно\n",
        "*   `is` — оператор идентичности. В отличие от == проверяет, что 2 объекта являются одним и тем же, то есть ссылаются на один и тот же блок памяти."
      ],
      "metadata": {
        "id": "zAMevytnDc68"
      }
    },
    {
      "cell_type": "code",
      "source": [
        "a = 20 # Допустим, температура воздуха\n",
        "if a > 25:\n",
        "    print('Жарко')\n",
        "elif a < 15:\n",
        "    print('Прохладно')\n",
        "else:\n",
        "    print('Идеально!')"
      ],
      "metadata": {
        "colab": {
          "base_uri": "https://localhost:8080/"
        },
        "id": "RgmzwH5XAOc9",
        "outputId": "eb96d44c-24a3-4f08-f739-ba75e3024cc1"
      },
      "execution_count": null,
      "outputs": [
        {
          "output_type": "stream",
          "name": "stdout",
          "text": [
            "Идеально!\n"
          ]
        }
      ]
    },
    {
      "cell_type": "code",
      "source": [
        "a = 257\n",
        "b = 257\n",
        "print(a == b, a is b)"
      ],
      "metadata": {
        "colab": {
          "base_uri": "https://localhost:8080/"
        },
        "id": "9cchdU-rNS68",
        "outputId": "f600a1cb-894b-486c-9241-97d3e237077b"
      },
      "execution_count": null,
      "outputs": [
        {
          "output_type": "stream",
          "name": "stdout",
          "text": [
            "True False\n"
          ]
        }
      ]
    },
    {
      "cell_type": "markdown",
      "source": [
        "# Циклы"
      ],
      "metadata": {
        "id": "9cUhAeqn_o9-"
      }
    },
    {
      "cell_type": "markdown",
      "source": [
        "Типы циклов:\n",
        "*   `while <условие_цикла>`\n",
        "*   `for i in <список>` — проходимся по каждому элементу списка\n",
        "\n",
        "Ключевые слова:\n",
        "*   `continue` — перейти к следующей итерации\n",
        "*   `break` — завершить работу цикла преждевременно"
      ],
      "metadata": {
        "id": "O99GuY9yDjbo"
      }
    },
    {
      "cell_type": "code",
      "source": [
        "a = [1,2,3,4,5]\n",
        "i = 0\n",
        "while a[i] != 3:\n",
        "    print(a[i])\n",
        "    i += 1"
      ],
      "metadata": {
        "id": "suZYMmczAO66",
        "colab": {
          "base_uri": "https://localhost:8080/"
        },
        "outputId": "ca81e83a-e86b-4d9e-ee16-0333c3c0d0bc"
      },
      "execution_count": null,
      "outputs": [
        {
          "output_type": "stream",
          "name": "stdout",
          "text": [
            "1\n",
            "2\n"
          ]
        }
      ]
    },
    {
      "cell_type": "code",
      "source": [
        "for i in range(1, 5, 2):\n",
        "    if a[i] == 3:\n",
        "        break\n",
        "    print(a[i])\n",
        "else:\n",
        "    print('3 was not found :(')"
      ],
      "metadata": {
        "id": "gXUihUumBGli",
        "colab": {
          "base_uri": "https://localhost:8080/"
        },
        "outputId": "cfffe951-a672-4433-d096-da29fbf2e3f7"
      },
      "execution_count": null,
      "outputs": [
        {
          "output_type": "stream",
          "name": "stdout",
          "text": [
            "1\n",
            "2\n"
          ]
        }
      ]
    },
    {
      "cell_type": "code",
      "source": [
        "\"\"\"List comprehensions\"\"\"\n",
        "\n",
        "range_list = [i**2 for i in range(10)]\n",
        "\n",
        "print(range_list)"
      ],
      "metadata": {
        "colab": {
          "base_uri": "https://localhost:8080/"
        },
        "id": "sC1epx5R9vI6",
        "outputId": "1468b6c1-7f0a-4bca-81e7-04e636bea82b"
      },
      "execution_count": null,
      "outputs": [
        {
          "output_type": "stream",
          "name": "stdout",
          "text": [
            "[0, 1, 4, 9, 16, 25, 36, 49, 64, 81]\n"
          ]
        }
      ]
    },
    {
      "cell_type": "markdown",
      "source": [
        "# Исключения"
      ],
      "metadata": {
        "id": "BtLEw28S_1KN"
      }
    },
    {
      "cell_type": "markdown",
      "source": [
        "Позволяют прописать код на случай (не)предвиденных ошибок.\n",
        "\n",
        "Ключевые слова:\n",
        "*   `try` — фрагмент кода, который мы подозреваем\n",
        "*   `except <тип_ошибки>` — что сделать, если поймаем конкретный тип ошибки\n",
        "*   `else` — никакая ошибка не была поймана\n",
        "*   `finally` — выполнится в любом случае и до завершения try/except блока\n",
        "*   `raise` — мы сами иногда можем поднимать ошибки (но нам пока что такое не надо)"
      ],
      "metadata": {
        "id": "daDB_NzfD19Y"
      }
    },
    {
      "cell_type": "code",
      "source": [
        "a, b = 1, 'one'\n",
        "try:\n",
        "    print(a+b)\n",
        "except TypeError:\n",
        "    print('Это разные типы данных! >:(')\n",
        "except Exception as e:\n",
        "    print('А что случилось? :/')\n",
        "else:\n",
        "    print('Всё ок, я проверил :)')"
      ],
      "metadata": {
        "colab": {
          "base_uri": "https://localhost:8080/"
        },
        "id": "NKfZuDWEAPbR",
        "outputId": "6b1d0ea9-e706-484e-a42d-d86dfe4130fe"
      },
      "execution_count": null,
      "outputs": [
        {
          "output_type": "stream",
          "name": "stdout",
          "text": [
            "Это разные типы данных! >:(\n"
          ]
        }
      ]
    },
    {
      "cell_type": "code",
      "source": [
        "def process_data(data):\n",
        "    try:\n",
        "        result = data * 2\n",
        "        return result  # Перед завершением выполнится finally-блок\n",
        "    except Exception as e:\n",
        "        print(f\"Error: {e}\")\n",
        "        return None\n",
        "    finally:\n",
        "        print(\"Это выполнится ДО возврата из функции!\")\n",
        "\n",
        "print(process_data(5))"
      ],
      "metadata": {
        "colab": {
          "base_uri": "https://localhost:8080/"
        },
        "id": "s4D36Tj3ahup",
        "outputId": "0cc36eb3-f7d3-4c6a-d8a4-cb550fc373c8"
      },
      "execution_count": null,
      "outputs": [
        {
          "output_type": "stream",
          "name": "stdout",
          "text": [
            "Это выполнится ДО возврата из функции!\n",
            "10\n"
          ]
        }
      ]
    },
    {
      "cell_type": "markdown",
      "source": [
        "# Чтение текстовых файлов"
      ],
      "metadata": {
        "id": "TlXvUSKtMBW8"
      }
    },
    {
      "cell_type": "code",
      "source": [
        "# Создание data.txt и запись текста в этот файл\n",
        "with open(\"data.txt\", \"w\", encoding=\"utf-8\") as f:\n",
        "    f.write(\"Привет, народ!\\n\")\n",
        "    f.write(\"Это наше первое занятие по Python.\\n\")\n",
        "    f.write(\"Здесь мы изучаем бэкенд.\\n\")\n",
        "print(\"Файл data.txt успешно создан и заполнен!\")\n",
        "\n",
        "# Чтение файла. ПРЕДПОДЧТИТЕЛЬНЕЕ\n",
        "print(\"\\nЧТЕНИЕ ФАЙЛА (РЕКОМЕНДУЕМЫЙ СПОСОБ):\\n\")\n",
        "with open(\"data.txt\", \"r\", encoding=\"utf-8\") as f:\n",
        "    text = f.read()\n",
        "print(text)\n",
        "\n",
        "# Взаимодействие с помощью open, read, readline, close. НЕ РЕКОМЕНДУЕТСЯ\n",
        "print(\"\\nРАЗНЫЕ СПОСОБЫ ЧТЕНИЯ (НЕ РЕКОМЕНДУЕТСЯ):\\n\")\n",
        "f = open(\"data.txt\", \"r\", encoding=\"utf-8\") # Открытие файла без оператора with\n",
        "print(\"1. Read (все содержимое):\")\n",
        "print(f.read())\n",
        "print(\"\\n2. Readline (первая строка):\") # Чтение всего файла целиком\n",
        "f.seek(0)                               # Перенос курсора в начало\n",
        "print(f.readline())                     # Чтение первой строки\n",
        "f.seek(0)\n",
        "print(\"\\n3. Readlines (список строк):\")\n",
        "print(f.readlines())                    # Список строк\n",
        "f.close()                               # Файл надо закрыть, чтоб не занимал место в оперативной памяти"
      ],
      "metadata": {
        "id": "aJ7t6sc9MBsx",
        "colab": {
          "base_uri": "https://localhost:8080/"
        },
        "outputId": "97801826-0d64-496c-d231-24c3356561fc"
      },
      "execution_count": null,
      "outputs": [
        {
          "output_type": "stream",
          "name": "stdout",
          "text": [
            "Файл data.txt успешно создан и заполнен!\n",
            "\n",
            "ЧТЕНИЕ ФАЙЛА (РЕКОМЕНДУЕМЫЙ СПОСОБ):\n",
            "\n",
            "Привет, народ!\n",
            "Это наше первое занятие по Python.\n",
            "Здесь мы изучаем бэкенд.\n",
            "\n",
            "\n",
            "РАЗНЫЕ СПОСОБЫ ЧТЕНИЯ (НЕ РЕКОМЕНДУЕТСЯ):\n",
            "\n",
            "1. Read (все содержимое):\n",
            "Привет, народ!\n",
            "Это наше первое занятие по Python.\n",
            "Здесь мы изучаем бэкенд.\n",
            "\n",
            "\n",
            "2. Readline (первая строка):\n",
            "Привет, народ!\n",
            "\n",
            "\n",
            "3. Readlines (список строк):\n",
            "['Привет, народ!\\n', 'Это наше первое занятие по Python.\\n', 'Здесь мы изучаем бэкенд.\\n']\n"
          ]
        }
      ]
    },
    {
      "cell_type": "markdown",
      "source": [
        "Почему with лучше:\n",
        "* Автоматически закрывает файл\n",
        "* Не нужно помнить о f.close()\n",
        "* Безопасность при исключениях\n",
        "* Более читаемый код\n",
        "\n"
      ],
      "metadata": {
        "id": "NslAPAzv0fol"
      }
    },
    {
      "cell_type": "markdown",
      "source": [
        "# Функция"
      ],
      "metadata": {
        "id": "mUXzBd1_PPaW"
      }
    },
    {
      "cell_type": "code",
      "source": [
        "def find_roots(a: int, b: int, c: int) -> set: # Найти корни ax^2+bx+c\n",
        "    d = b**2 - 4*a*c\n",
        "    if d < 0:\n",
        "        return {}\n",
        "    # elif d == 0:\n",
        "    #     return {-b/(2*a)}\n",
        "    else:\n",
        "        return {(-b+d**0.5)/(2*a), (-b-d**0.5)/(2*a)}\n",
        "\n",
        "\n",
        "print(f\"x = {find_roots(1, -4, 4)}\")\n",
        "print(f\"x = {find_roots(a=1, b=-6, c=5)}\")"
      ],
      "metadata": {
        "colab": {
          "base_uri": "https://localhost:8080/"
        },
        "id": "ktA1MEojPT3V",
        "outputId": "73f8b8bc-d6bb-480d-b521-8a907f3cf422"
      },
      "execution_count": null,
      "outputs": [
        {
          "output_type": "stream",
          "name": "stdout",
          "text": [
            "x = {2.0}\n",
            "x = {1.0, 5.0}\n"
          ]
        }
      ]
    },
    {
      "cell_type": "markdown",
      "source": [
        "Анонимные функции (лямбда-функции)"
      ],
      "metadata": {
        "id": "KMVuM2pSHDj7"
      }
    },
    {
      "cell_type": "code",
      "source": [
        "f = lambda x: x**2 # Каждый элемент списка мы будем возводить в квадрат\n",
        "a = map(f, [1, 2, 3, 4, 5])\n",
        "print(list(a))"
      ],
      "metadata": {
        "colab": {
          "base_uri": "https://localhost:8080/"
        },
        "id": "VpUjXKv8HJ2r",
        "outputId": "d9b3f448-c5ae-4046-e03a-ee39af16dbd7"
      },
      "execution_count": null,
      "outputs": [
        {
          "output_type": "stream",
          "name": "stdout",
          "text": [
            "[1, 4, 9, 16, 25]\n"
          ]
        }
      ]
    },
    {
      "cell_type": "markdown",
      "source": [
        "# Классы"
      ],
      "metadata": {
        "id": "aVmG20F0_76t"
      }
    },
    {
      "cell_type": "markdown",
      "source": [
        "Иногда описанных выше структур данных не хватает. Нужно хранить данные в удобном и понятном нам виде. Поэтому придумали классы — шаблоны некоторых данных.\n",
        "\n",
        "У каждого класса есть свой интерфейс — набор данных и методы взаимодействия с ними.\n",
        "\n",
        "От классов потом создаются конкретные объекты — экземпляры."
      ],
      "metadata": {
        "id": "M1qlrYWjEDF3"
      }
    },
    {
      "cell_type": "code",
      "source": [
        "class Food:\n",
        "    def __init__(self, taste):\n",
        "        self.taste = taste\n",
        "\n",
        "\n",
        "class Human:\n",
        "    def __init__(self, name: str, age: int, gender: bool):\n",
        "        self.name: str = name\n",
        "        self._age: int = age\n",
        "        # Если ставим перед именем _ (один прочерк), то переменная становится защищённой.\n",
        "        # Мы к ней сможем обратиться только внутри этого класса или дочернего\n",
        "        # Если ставим __ (два прочерка), то переменная становится приватной,\n",
        "        # то есть обратиться вне класса к нему мы не сможем. В дочернем классе она будет НЕДОСТУПНА\n",
        "        self._gender: bool = gender\n",
        "        self.mood: int = 0\n",
        "\n",
        "    def __str__(self):\n",
        "        return f\"Name: {self.name}; Age: {self._age}; Gender: {'Male' if self._gender else 'Female'}\"\n",
        "\n",
        "    def eat(self, food: Food):\n",
        "        self.mood += food.taste\n",
        "\n",
        "\n",
        "Apple = Food(50)\n",
        "Brocolli = Food(10)\n",
        "Pizza = Food(90)\n",
        "\n",
        "Me = Human(\"Oleg\", 32, True)\n",
        "Me.eat(Pizza)\n",
        "print(Me)\n",
        "print(Me.mood)"
      ],
      "metadata": {
        "colab": {
          "base_uri": "https://localhost:8080/"
        },
        "id": "78zpeOltAQG_",
        "outputId": "b2739d6a-acea-45e8-bcd8-0c4aef67bba0"
      },
      "execution_count": null,
      "outputs": [
        {
          "output_type": "stream",
          "name": "stdout",
          "text": [
            "Name: Oleg; Age: 32; Gender: Male\n",
            "90\n"
          ]
        }
      ]
    },
    {
      "cell_type": "markdown",
      "source": [
        "У классов есть ещё одно свойство — наследование.\n",
        "От существующего класса можно сделать дочерний, с немного другим интерфейсом.\n",
        "\n",
        "Наследование позволяет:\n",
        "- Переиспользовать код родителя\n",
        "- Добавлять новую функциональность\n",
        "- Изменять поведение методов"
      ],
      "metadata": {
        "id": "w5ICx2Wj8e9z"
      }
    },
    {
      "cell_type": "code",
      "source": [
        "class Child(Human):\n",
        "    def __init__(self, name: str, age: int, gender: bool, parent: Human):\n",
        "        super().__init__(name, age, gender)\n",
        "        self.parent = parent # Композиция — Компоненты тоже могут быть классом\n",
        "\n",
        "    def __str__(self):\n",
        "        return f\"Name: {self.name}; Age: {self._age}; Gender: {'Male' if self._gender else 'Female'}; Parent: {self.parent.name}\"\n",
        "\n",
        "child = Child(\"Bob\", 2, True, Me)\n",
        "print(child)"
      ],
      "metadata": {
        "id": "A07igPj-I780",
        "colab": {
          "base_uri": "https://localhost:8080/"
        },
        "outputId": "ca3c6693-2dfc-43c6-ecc2-7a649af9ba00"
      },
      "execution_count": null,
      "outputs": [
        {
          "output_type": "stream",
          "name": "stdout",
          "text": [
            "Name: Bob; Age: 2; Gender: Male; Parent: Oleg\n"
          ]
        }
      ]
    },
    {
      "cell_type": "markdown",
      "source": [
        "# Декораторы"
      ],
      "metadata": {
        "id": "oBA_6Lz0AFhQ"
      }
    },
    {
      "cell_type": "markdown",
      "source": [
        "Функция должна делать то, для чего она создана и не более. Но есть случаи, когда функционал надо расширить.\n",
        "\n",
        "Для этого существуют декораторы. Они расширяют изначальную функцию, при этом не \"загрязняя\" код."
      ],
      "metadata": {
        "id": "2dt4uuP82C1I"
      }
    },
    {
      "cell_type": "code",
      "source": [
        "def decorator(func):\n",
        "    def wrapper():\n",
        "        print(\"Task has started\")\n",
        "        func()\n",
        "        print(\"Task has completed\")\n",
        "\n",
        "    return wrapper\n",
        "\n",
        "\n",
        "@decorator\n",
        "def print_hello_world():\n",
        "    print(\"Hello world!\")\n",
        "\n",
        "print_hello_world()"
      ],
      "metadata": {
        "id": "Ss-HD2NVEd72",
        "colab": {
          "base_uri": "https://localhost:8080/"
        },
        "outputId": "ee43e23f-281e-4e55-8023-ace273784d2a"
      },
      "execution_count": null,
      "outputs": [
        {
          "output_type": "stream",
          "name": "stdout",
          "text": [
            "Task has started\n",
            "Hello world!\n",
            "Task has completed\n"
          ]
        }
      ]
    },
    {
      "cell_type": "code",
      "source": [
        "def strong(func):\n",
        "    def wrapper():\n",
        "        return '<strong>' + func() + '</strong>'\n",
        "    return wrapper\n",
        "\n",
        "def emphasis(func):\n",
        "    def wrapper():\n",
        "        return '<em>' + func() + '</em>'\n",
        "    return wrapper\n",
        "\n",
        "@strong\n",
        "@emphasis #Декораторы можно накладывать друг на друга (порядок \"снизу вверх\")\n",
        "def greet():\n",
        "    return 'Hello!'\n",
        "\n",
        "print(greet())"
      ],
      "metadata": {
        "colab": {
          "base_uri": "https://localhost:8080/"
        },
        "id": "FYi2qLIPdhF5",
        "outputId": "123dbb8b-1e72-454e-f746-02ab4cc9bde1"
      },
      "execution_count": null,
      "outputs": [
        {
          "output_type": "stream",
          "name": "stdout",
          "text": [
            "<strong><em>Hello!</em></strong>\n"
          ]
        }
      ]
    },
    {
      "cell_type": "markdown",
      "source": [
        "# Вот, про что вы ещё можете почитать дома\n",
        "*   PEP 8 ([Оригинал](https://peps.python.org/pep-0008/)) ([Перевод на русский](https://pyplanet.ru/article/pep-0008.html))\n",
        "*   Принципы разработки ПО (SOLID, KISS, DRY, YAGNI, ...)\n",
        "\n",
        "Эти темы важны, если хотите писать чистый и лаконичный код, который будет понятен другим.\n",
        "\n",
        "*   Стандартная библиотека Python ([Ссылка туть](https://docs.python.org/3/library/index.html))\n",
        "\n",
        "Количество библиотек может вскружить голову, но не торопитесь изучить там всё. Вы успеете :)\n",
        "\n"
      ],
      "metadata": {
        "id": "YvgSR-oHEgyv"
      }
    }
  ]
}