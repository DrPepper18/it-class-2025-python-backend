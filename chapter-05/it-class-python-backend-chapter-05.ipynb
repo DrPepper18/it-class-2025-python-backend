{
  "cells": [
    {
      "cell_type": "markdown",
      "metadata": {
        "id": "Mw8SOShm6k6R"
      },
      "source": [
        "# Асинхронность на Python"
      ]
    },
    {
      "cell_type": "code",
      "execution_count": 3,
      "metadata": {},
      "outputs": [],
      "source": [
        "import asyncio\n",
        "import time"
      ]
    },
    {
      "cell_type": "markdown",
      "metadata": {},
      "source": [
        "## Синхронная версия (для сравнения)"
      ]
    },
    {
      "cell_type": "code",
      "execution_count": null,
      "metadata": {},
      "outputs": [
        {
          "name": "stdout",
          "output_type": "stream",
          "text": [
            "=== СИНХРОННОЕ ВЫПОЛНЕНИЕ ===\n",
            "Sync Hello World #1\n",
            "Sync Hello World #2\n",
            "Результаты: Sync Task 1 completed, Sync Task 2 completed\n",
            "Время выполнения: 4.00 секунд\n",
            "\n"
          ]
        }
      ],
      "source": [
        "\n",
        "def sync_task1():\n",
        "    print(\"Sync Hello World #1\")\n",
        "    time.sleep(2)  # \"2 секунды НИЧЕГО не делай\"\n",
        "    return \"Sync Task 1 completed\"\n",
        "\n",
        "def sync_task2():\n",
        "    print(\"Sync Hello World #2\") \n",
        "    time.sleep(2)  # \"2 секунды НИЧЕГО не делай\"\n",
        "    return \"Sync Task 2 completed\"\n",
        "\n",
        "\n",
        "print(\"[СИНХРОННО]\")\n",
        "start = time.time()\n",
        "result1 = sync_task1()\n",
        "result2 = sync_task2()\n",
        "end = time.time()\n",
        "print(f\"Результаты: {result1}, {result2}\")\n",
        "print(f\"Время выполнения: {end - start:.2f} секунд\")\n",
        "print()"
      ]
    },
    {
      "cell_type": "markdown",
      "metadata": {},
      "source": [
        "## Асинхронная версия"
      ]
    },
    {
      "cell_type": "code",
      "execution_count": null,
      "metadata": {},
      "outputs": [
        {
          "name": "stdout",
          "output_type": "stream",
          "text": [
            "=== АСИНХРОННОЕ ВЫПОЛНЕНИЕ ===\n",
            "Async Hello World #1\n",
            "Async Hello World #2\n",
            "Результаты: ['Async Task 1 completed', 'Async Task 2 completed']\n",
            "Время выполнения: 2.00 секунд\n"
          ]
        }
      ],
      "source": [
        "async def async_task1():\n",
        "    print(\"Async Hello World #1\")\n",
        "    await asyncio.sleep(2)  # \"Разбуди меня через 2 секунды, пока делай другое\"\n",
        "    return \"Async Task 1 completed\"\n",
        "\n",
        "\n",
        "async def async_task2():\n",
        "    print(\"Async Hello World #2\")\n",
        "    await asyncio.sleep(2)  # \"Разбуди меня через 2 секунды, пока делай другое\"\n",
        "    return \"Async Task 2 completed\"\n",
        "\n",
        "\n",
        "print(\"[АСИНХРОННО]\")\n",
        "start = time.time()\n",
        "results = await asyncio.gather(async_task1(), async_task2())\n",
        "end = time.time()\n",
        "print(f\"Результаты: {results}\")\n",
        "print(f\"Время выполнения: {end - start:.2f} секунд\")"
      ]
    },
    {
      "cell_type": "markdown",
      "metadata": {},
      "source": [
        "**Асинхронность и многопоточность**\n",
        "\n",
        "1. `asyncio.sleep()` vs `time.sleep()`:\n",
        "   - `asyncio.sleep()` - не блокирует поток, позволяет выполнять другие задачи\n",
        "   - `time.sleep()` - блокирует весь поток\n",
        "\n",
        "2. Эффективность:\n",
        "   - Синхронно: 2+2=4 секунды\n",
        "   - Асинхронно: ~2 секунды на обе задачи\n",
        "\n",
        "3. Принцип работы:\n",
        "   - При встрече await управление возвращается в event loop\n",
        "   - Event loop запускает другие готовые задачи\n",
        "   - Когда операция завершается, выполнение продолжается\n",
        "   Буквально процесс отдается операционной системе или сети, но железо без дела не простаивает\n",
        "\n",
        "4. Когда использовать:\n",
        "   - I/O-bound операции (сеть, файлы, БД)\n",
        "   - Множество одновременных соединений\n",
        "   - Задачи с большим временем ожидания\n",
        "\n",
        "*I/O-bound операции — те, где основное время тратится на ожидание внешних систем (сеть, диск, база данных), а не на вычисления процессором*"
      ]
    }
  ],
  "metadata": {
    "colab": {
      "provenance": []
    },
    "kernelspec": {
      "display_name": "Python 3",
      "name": "python3"
    },
    "language_info": {
      "codemirror_mode": {
        "name": "ipython",
        "version": 3
      },
      "file_extension": ".py",
      "mimetype": "text/x-python",
      "name": "python",
      "nbconvert_exporter": "python",
      "pygments_lexer": "ipython3",
      "version": "3.12.0"
    }
  },
  "nbformat": 4,
  "nbformat_minor": 0
}
